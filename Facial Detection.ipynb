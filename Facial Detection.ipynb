{
 "cells": [
  {
   "cell_type": "markdown",
   "id": "12502085",
   "metadata": {},
   "source": [
    "## Facial Detection\n",
    "- Face recognition\n",
    "- Eyes recognition \n",
    "- Smile recognition"
   ]
  },
  {
   "cell_type": "code",
   "execution_count": 50,
   "id": "547fbb53",
   "metadata": {},
   "outputs": [],
   "source": [
    "# Import all necessary libraries\n",
    "import numpy as np\n",
    "import cv2"
   ]
  },
  {
   "cell_type": "code",
   "execution_count": 51,
   "id": "5483128b",
   "metadata": {},
   "outputs": [],
   "source": [
    "# Step 1: Webcam\n",
    "\n",
    "# For video recording paste the file path of the video\n",
    "webcam = cv2.VideoCapture(0) # Local webcam - 0, External webcam - 1"
   ]
  },
  {
   "cell_type": "code",
   "execution_count": 52,
   "id": "19812fe6",
   "metadata": {},
   "outputs": [],
   "source": [
    "# Step 3: Leverage HAARCASCADEs\n",
    "face_cascade = cv2.CascadeClassifier(cv2.data.haarcascades + 'haarcascade_frontalface_default.xml') # Face Detection\n",
    "\n",
    "eye_cascade = cv2.CascadeClassifier(cv2.data.haarcascades + 'haarcascade_eye.xml') # Eye Detection\n",
    "\n",
    "smile_cascade = cv2.CascadeClassifier(cv2.data.haarcascades + 'haarcascade_smile.xml') # Smile Detection"
   ]
  },
  {
   "cell_type": "code",
   "execution_count": 53,
   "id": "3fb2b3b5",
   "metadata": {},
   "outputs": [],
   "source": [
    "# Step 4: Create a function that will leverage the cascade for the face detection\n",
    "\n",
    "def detect(gray, frame):\n",
    "    face = face_cascade.detectMultiScale(gray, 1.3, 5)\n",
    "    for (x, y, h, w) in face:\n",
    "        cv2.rectangle(frame, (x, y), (x+w, y+h), (255, 0, 0), thickness = 3)\n",
    "        roi_gray = gray[y:y+h, x:x+w]\n",
    "        roi_color = frame[y:y+h, x:x+w]\n",
    "        \n",
    "        \n",
    "        # Eye Detection\n",
    "        eyes = eye_cascade.detectMultiScale(roi_gray, 1.1, 3) # Actual eyes detection\n",
    "        for (ex, ey, eh, ew) in eyes:\n",
    "            cv2.rectangle(roi_color, (ex, ey), (ex+ew, ey+eh), (0, 255, 100), thickness = 3)\n",
    "         \n",
    "        \n",
    "        # Smile Detection\n",
    "        smile = smile_cascade.detectMultiScale(roi_gray,1.7,22)\n",
    "        for (sx,sy,sw,sh) in smile:\n",
    "            cv2.rectangle(roi_color, (sx,sy), (sx+sw, sy+sh), (100,55,160), 3)           "
   ]
  },
  {
   "cell_type": "code",
   "execution_count": 54,
   "id": "735a58e7",
   "metadata": {},
   "outputs": [],
   "source": [
    "# Step 2: Switch on Webcam\n",
    "\n",
    "while True:\n",
    "    _, frame = webcam.read() # Switch on the webcam\n",
    "    \n",
    "    \n",
    "    # Convert colored frame to Black and White\n",
    "    gray = cv2.cvtColor(frame, cv2.COLOR_BGR2GRAY)\n",
    "    \n",
    "    video = detect(gray, frame)\n",
    "    \n",
    "    cv2.imshow('10Alytics Facial Detection', frame)\n",
    "    if cv2.waitKey(1) & 0xff == ord('q'):\n",
    "        break\n",
    "webcam.release()\n",
    "cv2.destroyAllWindows()"
   ]
  },
  {
   "cell_type": "code",
   "execution_count": 13,
   "id": "2da50865",
   "metadata": {},
   "outputs": [],
   "source": []
  },
  {
   "cell_type": "code",
   "execution_count": null,
   "id": "346c81d6",
   "metadata": {},
   "outputs": [],
   "source": []
  },
  {
   "cell_type": "code",
   "execution_count": null,
   "id": "282b78a3",
   "metadata": {},
   "outputs": [],
   "source": []
  },
  {
   "cell_type": "code",
   "execution_count": null,
   "id": "7fe0bddf",
   "metadata": {},
   "outputs": [],
   "source": []
  },
  {
   "cell_type": "code",
   "execution_count": null,
   "id": "2318e251",
   "metadata": {},
   "outputs": [],
   "source": []
  },
  {
   "cell_type": "code",
   "execution_count": null,
   "id": "6c50782b",
   "metadata": {},
   "outputs": [],
   "source": []
  },
  {
   "cell_type": "code",
   "execution_count": null,
   "id": "2bbeec77",
   "metadata": {},
   "outputs": [],
   "source": []
  }
 ],
 "metadata": {
  "kernelspec": {
   "display_name": "Python 3 (ipykernel)",
   "language": "python",
   "name": "python3"
  },
  "language_info": {
   "codemirror_mode": {
    "name": "ipython",
    "version": 3
   },
   "file_extension": ".py",
   "mimetype": "text/x-python",
   "name": "python",
   "nbconvert_exporter": "python",
   "pygments_lexer": "ipython3",
   "version": "3.9.12"
  }
 },
 "nbformat": 4,
 "nbformat_minor": 5
}
